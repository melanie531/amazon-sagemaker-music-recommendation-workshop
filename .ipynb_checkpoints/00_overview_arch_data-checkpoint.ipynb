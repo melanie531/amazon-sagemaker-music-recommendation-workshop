{
 "cells": [
  {
   "cell_type": "markdown",
   "metadata": {},
   "source": [
    "<a id='00-nb'></a>\n",
    "\n",
    "# Architect and Build a Music Recommender System across the Entire ML-Lifecycle with Amazon SageMaker\n",
    "\n",
    "## Overview\n",
    "\n",
    "----\n",
    "\n",
    "Welcome of the Music Recommender use-case with Amazon SageMaker. In this series of notebooks we will go through the ML Lifecycle and show how we can build a Music Recommender System using a combination of SageMaker Services and features. IN each phase, we will have relevant notebooks that show you how easy it is to implement that phase of the lifecycle.\n",
    "\n",
    "\n",
    "----\n",
    "\n",
    "### Contents\n",
    "\n",
    "- [Overview](00_overview_arch_data.ipynb)\n",
    "    - [Architecture](#arch-overview)\n",
    "    - [Get the Data](#get-the-data)\n",
    "    - [Update the data sources](#update-data-sources)\n",
    "    - [Explore the Data](#explore-data)\n",
    "- [Part 1: Data Prep using SageMaker Processing Job](01_music_rec_data_prep.ipynb)\n",
    "- [Part 2: Model Training and Hyperparameter Tuning](02_music_rec_model_training.ipynb)\n",
    "- [Part 3: SageMaker Pipelines](03_music_rec_pipelines.ipynb)\n"
   ]
  },
  {
   "cell_type": "markdown",
   "metadata": {},
   "source": [
    "<a id ='arch-overview'></a>\n",
    "\n",
    "## Architecture\n",
    "\n",
    "Let's look at the overall solution architecure for this use case. We will start by doing each of these tasks within the exploratory phase of the ML Lifecycle, then when we are done with Experimentation and Trials, we can develop an automated pipeline such as the one depicted here to prepare data, train and tune the model, deposit it in the registry, then deploy it to a SageMaker hosted endpoint, and run batch transform based on the trained model.\n",
    "\n",
    "##### [back to top](#00-nb)\n",
    "\n",
    "----\n",
    "\n",
    "![Solution Architecure](./images/sagemaker_workshop_music.png)"
   ]
  },
  {
   "cell_type": "code",
   "execution_count": 2,
   "metadata": {},
   "outputs": [],
   "source": [
    "import sys\n",
    "import pprint\n",
    "sys.path.insert(1, './code')\n"
   ]
  },
  {
   "cell_type": "code",
   "execution_count": 3,
   "metadata": {},
   "outputs": [
    {
     "name": "stdout",
     "output_type": "stream",
     "text": [
      "\u001b[33mWARNING: Running pip as the 'root' user can result in broken permissions and conflicting behaviour with the system package manager. It is recommended to use a virtual environment instead: https://pip.pypa.io/warnings/venv\u001b[0m\u001b[33m\n",
      "\u001b[0m1.3.5\n"
     ]
    }
   ],
   "source": [
    "# update pandas to avoid data type issues in older 1.0 version\n",
    "!pip install pandas --upgrade --quiet\n",
    "import pandas as pd\n",
    "print(pd.__version__)"
   ]
  },
  {
   "cell_type": "code",
   "execution_count": 4,
   "metadata": {},
   "outputs": [
    {
     "name": "stdout",
     "output_type": "stream",
     "text": [
      "mkdir: cannot create directory ‘data’: File exists\n"
     ]
    }
   ],
   "source": [
    "# create data folder\n",
    "!mkdir data"
   ]
  },
  {
   "cell_type": "code",
   "execution_count": 6,
   "metadata": {},
   "outputs": [
    {
     "name": "stdout",
     "output_type": "stream",
     "text": [
      "this is your default SageMaker Studio bucket name: sagemaker-us-east-1-631450739534\n"
     ]
    }
   ],
   "source": [
    "import pandas as pd\n",
    "import matplotlib.pyplot as plt\n",
    "%matplotlib inline\n",
    "\n",
    "import json\n",
    "import sagemaker \n",
    "import boto3\n",
    "import os\n",
    "from awscli.customizations.s3.utils import split_s3_bucket_key\n",
    "\n",
    "# Sagemaker session\n",
    "sess = sagemaker.Session()\n",
    "# get session bucket name\n",
    "bucket = sess.default_bucket()\n",
    "# bucket prefix or the subfolder for everything we produce\n",
    "prefix='music-recommendation-workshop'\n",
    "# s3 client\n",
    "s3_client = boto3.client(\"s3\")\n",
    "\n",
    "print(f\"this is your default SageMaker Studio bucket name: {bucket}\")  "
   ]
  },
  {
   "cell_type": "code",
   "execution_count": 10,
   "metadata": {},
   "outputs": [],
   "source": [
    "def get_data(public_s3_data, to_bucket, sample_data=1):\n",
    "    new_paths = []\n",
    "    for f in public_s3_data:\n",
    "        bucket_name, key_name = split_s3_bucket_key(f)\n",
    "        filename = f.split('/')[-1]\n",
    "        new_path = \"s3://{}/{}/input/{}\".format(to_bucket, prefix, filename)\n",
    "        new_paths.append(new_path)\n",
    "        \n",
    "        # only download if not already downloaded\n",
    "        if not os.path.exists('./data/{}'.format(filename)):\n",
    "            # download s3 data\n",
    "            print(\"Downloading file from {}\".format(f))\n",
    "            s3_client.download_file(bucket_name, key_name, './data/{}'.format(filename))\n",
    "    \n",
    "        # subsample the data to create a smaller datatset for this demo\n",
    "        new_df = pd.read_csv('./data/{}'.format(filename))\n",
    "        new_df = new_df.sample(frac=sample_data)\n",
    "        new_df.to_csv('./data/{}'.format(filename), index=False)\n",
    "        \n",
    "        # upload s3 data to our default s3 bucket for SageMaker Studio\n",
    "        print(\"Uploading {} to {}\\n\".format(filename, new_path))\n",
    "        s3_client.upload_file('./data/{}'.format(filename), to_bucket, os.path.join(prefix, 'input', filename))\n",
    "        \n",
    "    return new_paths\n",
    "\n",
    "\n",
    "        \n",
    "\n",
    "def update_data_sources(flow_path, tracks_data_source, ratings_data_source):\n",
    "    with open(flow_path) as flowf:\n",
    "        flow = json.load(flowf)\n",
    "        \n",
    "    for node in flow['nodes']:\n",
    "        # if the key exists for our s3 endpoint\n",
    "        try:\n",
    "            if node['parameters']['dataset_definition']['name'] == 'tracks.csv':\n",
    "                # reset the s3 data source for tracks data\n",
    "                old_source = node['parameters']['dataset_definition']['s3ExecutionContext']['s3Uri']\n",
    "                print(\"Changed {} to {}\".format(old_source, tracks_data_source))\n",
    "                node['parameters']['dataset_definition']['s3ExecutionContext']['s3Uri'] = tracks_data_source\n",
    "            elif node['parameters']['dataset_definition']['name'] == 'ratings.csv':\n",
    "                # reset the s3 data source for ratings data\n",
    "                old_source = node['parameters']['dataset_definition']['s3ExecutionContext']['s3Uri']\n",
    "                print(\"Changed {} to {}\".format(old_source, ratings_data_source))\n",
    "                node['parameters']['dataset_definition']['s3ExecutionContext']['s3Uri'] = ratings_data_source\n",
    "        except:\n",
    "            continue\n",
    "    # write out the updated json flow file\n",
    "    with open(flow_path, 'w') as outfile:\n",
    "        json.dump(flow, outfile)\n",
    "    \n",
    "    return flow"
   ]
  },
  {
   "cell_type": "markdown",
   "metadata": {},
   "source": [
    "<a id='get-the-data'></a>\n",
    "\n",
    "## Prereqs: Get Data \n",
    "\n",
    "##### [back to top](#00-nb)\n",
    "\n",
    "----\n",
    "\n",
    "Here we will download the music data from a public S3 bucket that we'll be using for this demo and uploads it to your default S3 bucket that was created for you when you initially created a SageMaker Studio workspace. "
   ]
  },
  {
   "cell_type": "code",
   "execution_count": 11,
   "metadata": {},
   "outputs": [],
   "source": [
    "# public S3 bucket that contains our music data\n",
    "s3_bucket_music_data = \"s3://sagemaker-sample-files/datasets/tabular/synthetic-music\""
   ]
  },
  {
   "cell_type": "code",
   "execution_count": 12,
   "metadata": {},
   "outputs": [
    {
     "name": "stdout",
     "output_type": "stream",
     "text": [
      "Uploading tracks.csv to s3://sagemaker-us-east-1-631450739534/music-recommendation-workshop/input/tracks.csv\n",
      "\n",
      "Uploading ratings.csv to s3://sagemaker-us-east-1-631450739534/music-recommendation-workshop/input/ratings.csv\n",
      "\n",
      "['s3://sagemaker-us-east-1-631450739534/music-recommendation-workshop/input/tracks.csv', 's3://sagemaker-us-east-1-631450739534/music-recommendation-workshop/input/ratings.csv']\n"
     ]
    }
   ],
   "source": [
    "new_data_paths = get_data([f\"{s3_bucket_music_data}/tracks.csv\", f\"{s3_bucket_music_data}/ratings.csv\"], bucket, sample_data=0.70)\n",
    "print(new_data_paths)"
   ]
  },
  {
   "cell_type": "code",
   "execution_count": 13,
   "metadata": {},
   "outputs": [],
   "source": [
    "# these are the new file paths located on your SageMaker Studio default s3 storage bucket\n",
    "tracks_data_source = f's3://{bucket}/{prefix}/input/tracks.csv'\n",
    "ratings_data_source = f's3://{bucket}/{prefix}/input/ratings.csv'\n"
   ]
  },
  {
   "cell_type": "markdown",
   "metadata": {},
   "source": [
    "<a id='explore-data'></a>\n",
    "\n",
    "## Explore the Data\n",
    "\n",
    "\n",
    "##### [back to top](#00-nb)\n",
    "\n",
    "\n",
    "----"
   ]
  },
  {
   "cell_type": "code",
   "execution_count": 14,
   "metadata": {},
   "outputs": [],
   "source": [
    "tracks = pd.read_csv('./data/tracks.csv')\n",
    "ratings = pd.read_csv('./data/ratings.csv')"
   ]
  },
  {
   "cell_type": "code",
   "execution_count": 15,
   "metadata": {},
   "outputs": [
    {
     "data": {
      "text/html": [
       "<div>\n",
       "<style scoped>\n",
       "    .dataframe tbody tr th:only-of-type {\n",
       "        vertical-align: middle;\n",
       "    }\n",
       "\n",
       "    .dataframe tbody tr th {\n",
       "        vertical-align: top;\n",
       "    }\n",
       "\n",
       "    .dataframe thead th {\n",
       "        text-align: right;\n",
       "    }\n",
       "</style>\n",
       "<table border=\"1\" class=\"dataframe\">\n",
       "  <thead>\n",
       "    <tr style=\"text-align: right;\">\n",
       "      <th></th>\n",
       "      <th>trackId</th>\n",
       "      <th>length</th>\n",
       "      <th>energy</th>\n",
       "      <th>acousticness</th>\n",
       "      <th>valence</th>\n",
       "      <th>speechiness</th>\n",
       "      <th>instrumentalness</th>\n",
       "      <th>liveness</th>\n",
       "      <th>tempo</th>\n",
       "      <th>genre</th>\n",
       "    </tr>\n",
       "  </thead>\n",
       "  <tbody>\n",
       "    <tr>\n",
       "      <th>0</th>\n",
       "      <td>1395bf02-67b0-463d-82c9-b1a0a03327b9</td>\n",
       "      <td>206.0</td>\n",
       "      <td>0.503294</td>\n",
       "      <td>0.655674</td>\n",
       "      <td>0.430004</td>\n",
       "      <td>0.051380</td>\n",
       "      <td>0.000000</td>\n",
       "      <td>0.328493</td>\n",
       "      <td>125.178418</td>\n",
       "      <td>Jazz</td>\n",
       "    </tr>\n",
       "    <tr>\n",
       "      <th>1</th>\n",
       "      <td>a4aeb5f0-efac-414d-ab39-b7b8666c58fb</td>\n",
       "      <td>359.0</td>\n",
       "      <td>0.000020</td>\n",
       "      <td>0.996000</td>\n",
       "      <td>0.335748</td>\n",
       "      <td>0.022800</td>\n",
       "      <td>0.794613</td>\n",
       "      <td>0.178673</td>\n",
       "      <td>87.853502</td>\n",
       "      <td>Country</td>\n",
       "    </tr>\n",
       "    <tr>\n",
       "      <th>2</th>\n",
       "      <td>58167dd7-de2a-41c4-895b-4a5bcddd75b3</td>\n",
       "      <td>210.0</td>\n",
       "      <td>0.797469</td>\n",
       "      <td>0.408571</td>\n",
       "      <td>0.912363</td>\n",
       "      <td>0.022800</td>\n",
       "      <td>0.000000</td>\n",
       "      <td>0.104140</td>\n",
       "      <td>123.918778</td>\n",
       "      <td>Electronic</td>\n",
       "    </tr>\n",
       "    <tr>\n",
       "      <th>3</th>\n",
       "      <td>1a06ca78-7fd9-4543-80b5-a511ebf63d07</td>\n",
       "      <td>203.0</td>\n",
       "      <td>0.295750</td>\n",
       "      <td>0.907671</td>\n",
       "      <td>0.104288</td>\n",
       "      <td>0.022800</td>\n",
       "      <td>0.000000</td>\n",
       "      <td>0.087060</td>\n",
       "      <td>166.004655</td>\n",
       "      <td>Reggae</td>\n",
       "    </tr>\n",
       "    <tr>\n",
       "      <th>4</th>\n",
       "      <td>c0a43495-2f04-4d70-8a08-753455f0395f</td>\n",
       "      <td>232.0</td>\n",
       "      <td>0.987485</td>\n",
       "      <td>0.140653</td>\n",
       "      <td>0.671219</td>\n",
       "      <td>0.066709</td>\n",
       "      <td>0.342827</td>\n",
       "      <td>0.045223</td>\n",
       "      <td>94.165032</td>\n",
       "      <td>Electronic</td>\n",
       "    </tr>\n",
       "  </tbody>\n",
       "</table>\n",
       "</div>"
      ],
      "text/plain": [
       "                                trackId  length    energy  acousticness  \\\n",
       "0  1395bf02-67b0-463d-82c9-b1a0a03327b9   206.0  0.503294      0.655674   \n",
       "1  a4aeb5f0-efac-414d-ab39-b7b8666c58fb   359.0  0.000020      0.996000   \n",
       "2  58167dd7-de2a-41c4-895b-4a5bcddd75b3   210.0  0.797469      0.408571   \n",
       "3  1a06ca78-7fd9-4543-80b5-a511ebf63d07   203.0  0.295750      0.907671   \n",
       "4  c0a43495-2f04-4d70-8a08-753455f0395f   232.0  0.987485      0.140653   \n",
       "\n",
       "    valence  speechiness  instrumentalness  liveness       tempo       genre  \n",
       "0  0.430004     0.051380          0.000000  0.328493  125.178418        Jazz  \n",
       "1  0.335748     0.022800          0.794613  0.178673   87.853502     Country  \n",
       "2  0.912363     0.022800          0.000000  0.104140  123.918778  Electronic  \n",
       "3  0.104288     0.022800          0.000000  0.087060  166.004655      Reggae  \n",
       "4  0.671219     0.066709          0.342827  0.045223   94.165032  Electronic  "
      ]
     },
     "execution_count": 15,
     "metadata": {},
     "output_type": "execute_result"
    }
   ],
   "source": [
    "tracks.head()"
   ]
  },
  {
   "cell_type": "code",
   "execution_count": 16,
   "metadata": {},
   "outputs": [
    {
     "data": {
      "text/html": [
       "<div>\n",
       "<style scoped>\n",
       "    .dataframe tbody tr th:only-of-type {\n",
       "        vertical-align: middle;\n",
       "    }\n",
       "\n",
       "    .dataframe tbody tr th {\n",
       "        vertical-align: top;\n",
       "    }\n",
       "\n",
       "    .dataframe thead th {\n",
       "        text-align: right;\n",
       "    }\n",
       "</style>\n",
       "<table border=\"1\" class=\"dataframe\">\n",
       "  <thead>\n",
       "    <tr style=\"text-align: right;\">\n",
       "      <th></th>\n",
       "      <th>ratingEventId</th>\n",
       "      <th>ts</th>\n",
       "      <th>userId</th>\n",
       "      <th>trackId</th>\n",
       "      <th>sessionId</th>\n",
       "      <th>itemInSession</th>\n",
       "      <th>Rating</th>\n",
       "    </tr>\n",
       "  </thead>\n",
       "  <tbody>\n",
       "    <tr>\n",
       "      <th>0</th>\n",
       "      <td>f6c6430c-9685-45ac-a167-19dacd60c1d5</td>\n",
       "      <td>1587424177</td>\n",
       "      <td>11167</td>\n",
       "      <td>76c9db42-8349-4a9a-ac38-b16fdb57a693</td>\n",
       "      <td>9696</td>\n",
       "      <td>135</td>\n",
       "      <td>5.0</td>\n",
       "    </tr>\n",
       "    <tr>\n",
       "      <th>1</th>\n",
       "      <td>6bf23d5d-6d02-4464-ab1d-7c7bbdfeb786</td>\n",
       "      <td>1585845530</td>\n",
       "      <td>11202</td>\n",
       "      <td>1e85d8e1-b3e5-4e80-9bb6-962d9a8813ae</td>\n",
       "      <td>9330</td>\n",
       "      <td>5</td>\n",
       "      <td>3.0</td>\n",
       "    </tr>\n",
       "    <tr>\n",
       "      <th>2</th>\n",
       "      <td>f344998b-1778-4798-bd10-3b80e00754ec</td>\n",
       "      <td>1582941616</td>\n",
       "      <td>11199</td>\n",
       "      <td>afbd3ac5-9cbb-417a-ba82-7b95299ababe</td>\n",
       "      <td>7833</td>\n",
       "      <td>85</td>\n",
       "      <td>4.0</td>\n",
       "    </tr>\n",
       "    <tr>\n",
       "      <th>3</th>\n",
       "      <td>c8dba923-f879-42f6-82ff-f06c5c74f95c</td>\n",
       "      <td>1587683216</td>\n",
       "      <td>11121</td>\n",
       "      <td>7ed2dca5-da67-4e37-a936-db7fb44bd687</td>\n",
       "      <td>10219</td>\n",
       "      <td>134</td>\n",
       "      <td>5.0</td>\n",
       "    </tr>\n",
       "    <tr>\n",
       "      <th>4</th>\n",
       "      <td>7310ba85-633f-48a7-9721-d5ee5feb7879</td>\n",
       "      <td>1582030860</td>\n",
       "      <td>11013</td>\n",
       "      <td>c8d00198-f85c-47bf-b665-4882dbb6116a</td>\n",
       "      <td>7397</td>\n",
       "      <td>51</td>\n",
       "      <td>3.0</td>\n",
       "    </tr>\n",
       "  </tbody>\n",
       "</table>\n",
       "</div>"
      ],
      "text/plain": [
       "                          ratingEventId          ts  userId  \\\n",
       "0  f6c6430c-9685-45ac-a167-19dacd60c1d5  1587424177   11167   \n",
       "1  6bf23d5d-6d02-4464-ab1d-7c7bbdfeb786  1585845530   11202   \n",
       "2  f344998b-1778-4798-bd10-3b80e00754ec  1582941616   11199   \n",
       "3  c8dba923-f879-42f6-82ff-f06c5c74f95c  1587683216   11121   \n",
       "4  7310ba85-633f-48a7-9721-d5ee5feb7879  1582030860   11013   \n",
       "\n",
       "                                trackId  sessionId  itemInSession  Rating  \n",
       "0  76c9db42-8349-4a9a-ac38-b16fdb57a693       9696            135     5.0  \n",
       "1  1e85d8e1-b3e5-4e80-9bb6-962d9a8813ae       9330              5     3.0  \n",
       "2  afbd3ac5-9cbb-417a-ba82-7b95299ababe       7833             85     4.0  \n",
       "3  7ed2dca5-da67-4e37-a936-db7fb44bd687      10219            134     5.0  \n",
       "4  c8d00198-f85c-47bf-b665-4882dbb6116a       7397             51     3.0  "
      ]
     },
     "execution_count": 16,
     "metadata": {},
     "output_type": "execute_result"
    }
   ],
   "source": [
    "ratings.head()"
   ]
  },
  {
   "cell_type": "code",
   "execution_count": 17,
   "metadata": {},
   "outputs": [
    {
     "name": "stdout",
     "output_type": "stream",
     "text": [
      "23,703 different songs/tracks\n",
      "258 users\n",
      "117,649 user rating events\n"
     ]
    }
   ],
   "source": [
    "print(\"{:,} different songs/tracks\".format(tracks['trackId'].nunique()))\n",
    "print(\"{:,} users\".format(ratings['userId'].nunique()))\n",
    "print(\"{:,} user rating events\".format(ratings['ratingEventId'].nunique()))"
   ]
  },
  {
   "cell_type": "code",
   "execution_count": 18,
   "metadata": {},
   "outputs": [
    {
     "data": {
      "image/png": "[encoded data removed]",
      "text/plain": [
       "<Figure size 432x288 with 1 Axes>"
      ]
     },
     "metadata": {
      "needs_background": "light"
     },
     "output_type": "display_data"
    }
   ],
   "source": [
    "tracks.groupby('genre')['genre'].count().plot.bar(title=\"Tracks by Genre\");"
   ]
  },
  {
   "cell_type": "code",
   "execution_count": 19,
   "metadata": {},
   "outputs": [
    {
     "data": {
      "image/png": "[encoded data removed]",
      "text/plain": [
       "<Figure size 432x288 with 1 Axes>"
      ]
     },
     "metadata": {
      "needs_background": "light"
     },
     "output_type": "display_data"
    }
   ],
   "source": [
    "ratings[['ratingEventId','userId']].plot.hist(by='userId', bins=50, title=\"Distribution of # of Ratings by User\");"
   ]
  },
  {
   "cell_type": "markdown",
   "metadata": {},
   "source": [
    "----\n",
    "\n",
    "# Music Recommender Lab 1: Data Prep using SageMaker Processing\n",
    "\n",
    "After you completed running this notebook, you can open the next notebook."
   ]
  },
  {
   "cell_type": "code",
   "execution_count": null,
   "metadata": {},
   "outputs": [],
   "source": []
  }
 ],
 "metadata": {
  "instance_type": "ml.t3.medium",
  "kernelspec": {
   "display_name": "Python 3 (Data Science)",
   "language": "python",
   "name": "python3__SAGEMAKER_INTERNAL__arn:aws:sagemaker:us-east-1:081325390199:image/datascience-1.0"
  },
  "language_info": {
   "codemirror_mode": {
    "name": "ipython",
    "version": 3
   },
   "file_extension": ".py",
   "mimetype": "text/x-python",
   "name": "python",
   "nbconvert_exporter": "python",
   "pygments_lexer": "ipython3",
   "version": "3.7.10"
  }
 },
 "nbformat": 4,
 "nbformat_minor": 4
}
